{
 "cells": [
  {
   "cell_type": "code",
   "execution_count": 1,
   "id": "fd46edfa",
   "metadata": {
    "scrolled": true
   },
   "outputs": [
    {
     "name": "stdout",
     "output_type": "stream",
     "text": [
      "Enter your height in cm:150\n",
      "Enter your weight in kg:45\n"
     ]
    }
   ],
   "source": [
    "Height=float(input(\"Enter your height in cm:\"))\n",
    "Weight=float(input(\"Enter your weight in kg:\"))"
   ]
  },
  {
   "cell_type": "code",
   "execution_count": 2,
   "id": "d13e5bb6",
   "metadata": {},
   "outputs": [],
   "source": [
    "Height=Height/100"
   ]
  },
  {
   "cell_type": "code",
   "execution_count": 3,
   "id": "6e8152d4",
   "metadata": {
    "scrolled": false
   },
   "outputs": [],
   "source": [
    "BMI=Weight/(Height*Height)"
   ]
  },
  {
   "cell_type": "code",
   "execution_count": 4,
   "id": "640c776f",
   "metadata": {},
   "outputs": [
    {
     "name": "stdout",
     "output_type": "stream",
     "text": [
      "your Body Mass Index is : 20.0\n"
     ]
    }
   ],
   "source": [
    "print(\"your Body Mass Index is :\",BMI)"
   ]
  },
  {
   "cell_type": "code",
   "execution_count": 5,
   "id": "ee3a6e53",
   "metadata": {},
   "outputs": [
    {
     "name": "stdout",
     "output_type": "stream",
     "text": [
      "you are healthy\n"
     ]
    }
   ],
   "source": [
    "if(BMI>0):\n",
    "    if(BMI<=16):\n",
    "        print(\"you are severely underweight\")\n",
    "    elif(BMI<=18.5):\n",
    "            print(\"you are underweight\")\n",
    "    elif(BMI<=25):\n",
    "                print(\"you are healthy\")\n",
    "    elif(BMI<=30):\n",
    "                    print(\"you are overweight\")\n",
    "    else:\n",
    "                        print(\"you are severely overweight\")"
   ]
  },
  {
   "cell_type": "code",
   "execution_count": null,
   "id": "50041493",
   "metadata": {},
   "outputs": [],
   "source": []
  }
 ],
 "metadata": {
  "kernelspec": {
   "display_name": "Python 3 (ipykernel)",
   "language": "python",
   "name": "python3"
  },
  "language_info": {
   "codemirror_mode": {
    "name": "ipython",
    "version": 3
   },
   "file_extension": ".py",
   "mimetype": "text/x-python",
   "name": "python",
   "nbconvert_exporter": "python",
   "pygments_lexer": "ipython3",
   "version": "3.9.7"
  }
 },
 "nbformat": 4,
 "nbformat_minor": 5
}
